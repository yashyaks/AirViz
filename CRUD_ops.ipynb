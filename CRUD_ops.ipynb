{
 "cells": [
  {
   "cell_type": "code",
   "execution_count": 1,
   "id": "49d4c6b8",
   "metadata": {},
   "outputs": [],
   "source": [
    "import pandas as pd\n",
    "import numpy as np\n",
    "import mysql.connector"
   ]
  },
  {
   "cell_type": "code",
   "execution_count": 2,
   "id": "0827d7d7",
   "metadata": {},
   "outputs": [],
   "source": [
    "db = mysql.connector.connect(host='localhost', user='root', password='ganesh2710')"
   ]
  },
  {
   "cell_type": "code",
   "execution_count": 3,
   "id": "57426acc",
   "metadata": {},
   "outputs": [],
   "source": [
    "cursor = db.cursor()"
   ]
  },
  {
   "cell_type": "code",
   "execution_count": 4,
   "id": "19e3532f",
   "metadata": {},
   "outputs": [],
   "source": [
    "try:\n",
    "    cursor.execute(\"CREATE DATABASE Pythonexpt10\")\n",
    "except:\n",
    "    db.rollback()"
   ]
  },
  {
   "cell_type": "code",
   "execution_count": 5,
   "id": "4c4c1c71",
   "metadata": {},
   "outputs": [
    {
     "name": "stdout",
     "output_type": "stream",
     "text": [
      "('dbms',)\n",
      "('information_schema',)\n",
      "('market',)\n",
      "('mysql',)\n",
      "('office',)\n",
      "('performance_schema',)\n",
      "('python10',)\n",
      "('python10miniproject',)\n",
      "('pythonexpt10',)\n",
      "('sys',)\n",
      "('testdb',)\n"
     ]
    }
   ],
   "source": [
    "cursor.execute(\"SHOW DATABASES\")\n",
    "for x in cursor:\n",
    "    print(x)"
   ]
  },
  {
   "cell_type": "code",
   "execution_count": 6,
   "id": "869ad95a",
   "metadata": {},
   "outputs": [],
   "source": [
    "mydb = mysql.connector.connect(\n",
    "  host=\"localhost\",\n",
    "  user=\"root\",\n",
    "  password=\"ganesh2710\",\n",
    "  database=\"Pythonexpt10\"\n",
    ") "
   ]
  },
  {
   "cell_type": "code",
   "execution_count": 7,
   "id": "7e6b0a73",
   "metadata": {},
   "outputs": [],
   "source": [
    "cursor.execute('USE Pythonexpt10')"
   ]
  },
  {
   "cell_type": "code",
   "execution_count": 8,
   "id": "334656d6",
   "metadata": {},
   "outputs": [
    {
     "data": {
      "text/html": [
       "<div>\n",
       "<style scoped>\n",
       "    .dataframe tbody tr th:only-of-type {\n",
       "        vertical-align: middle;\n",
       "    }\n",
       "\n",
       "    .dataframe tbody tr th {\n",
       "        vertical-align: top;\n",
       "    }\n",
       "\n",
       "    .dataframe thead th {\n",
       "        text-align: right;\n",
       "    }\n",
       "</style>\n",
       "<table border=\"1\" class=\"dataframe\">\n",
       "  <thead>\n",
       "    <tr style=\"text-align: right;\">\n",
       "      <th></th>\n",
       "      <th>region_id</th>\n",
       "      <th>country_name</th>\n",
       "      <th>gdp</th>\n",
       "    </tr>\n",
       "  </thead>\n",
       "  <tbody>\n",
       "    <tr>\n",
       "      <th>0</th>\n",
       "      <td>LCN</td>\n",
       "      <td>Aruba</td>\n",
       "      <td>35563.312500</td>\n",
       "    </tr>\n",
       "    <tr>\n",
       "      <th>1</th>\n",
       "      <td>SAS</td>\n",
       "      <td>Afghanistan</td>\n",
       "      <td>2057.062256</td>\n",
       "    </tr>\n",
       "    <tr>\n",
       "      <th>2</th>\n",
       "      <td>SSF</td>\n",
       "      <td>Angola</td>\n",
       "      <td>8036.690430</td>\n",
       "    </tr>\n",
       "    <tr>\n",
       "      <th>3</th>\n",
       "      <td>ECS</td>\n",
       "      <td>Albania</td>\n",
       "      <td>13724.058590</td>\n",
       "    </tr>\n",
       "    <tr>\n",
       "      <th>4</th>\n",
       "      <td>ECS</td>\n",
       "      <td>Andorra</td>\n",
       "      <td>43711.800780</td>\n",
       "    </tr>\n",
       "    <tr>\n",
       "      <th>...</th>\n",
       "      <td>...</td>\n",
       "      <td>...</td>\n",
       "      <td>...</td>\n",
       "    </tr>\n",
       "    <tr>\n",
       "      <th>212</th>\n",
       "      <td>ECS</td>\n",
       "      <td>Kosovo</td>\n",
       "      <td>9723.561523</td>\n",
       "    </tr>\n",
       "    <tr>\n",
       "      <th>213</th>\n",
       "      <td>MEA</td>\n",
       "      <td>Yemen, Rep.</td>\n",
       "      <td>8269.671875</td>\n",
       "    </tr>\n",
       "    <tr>\n",
       "      <th>214</th>\n",
       "      <td>SSF</td>\n",
       "      <td>South Africa</td>\n",
       "      <td>12666.607420</td>\n",
       "    </tr>\n",
       "    <tr>\n",
       "      <th>215</th>\n",
       "      <td>SSF</td>\n",
       "      <td>Zambia</td>\n",
       "      <td>3201.289307</td>\n",
       "    </tr>\n",
       "    <tr>\n",
       "      <th>216</th>\n",
       "      <td>SSF</td>\n",
       "      <td>Zimbabwe</td>\n",
       "      <td>3190.506592</td>\n",
       "    </tr>\n",
       "  </tbody>\n",
       "</table>\n",
       "<p>217 rows × 3 columns</p>\n",
       "</div>"
      ],
      "text/plain": [
       "    region_id  country_name           gdp\n",
       "0         LCN         Aruba  35563.312500\n",
       "1         SAS   Afghanistan   2057.062256\n",
       "2         SSF        Angola   8036.690430\n",
       "3         ECS       Albania  13724.058590\n",
       "4         ECS       Andorra  43711.800780\n",
       "..        ...           ...           ...\n",
       "212       ECS        Kosovo   9723.561523\n",
       "213       MEA   Yemen, Rep.   8269.671875\n",
       "214       SSF  South Africa  12666.607420\n",
       "215       SSF        Zambia   3201.289307\n",
       "216       SSF      Zimbabwe   3190.506592\n",
       "\n",
       "[217 rows x 3 columns]"
      ]
     },
     "execution_count": 8,
     "metadata": {},
     "output_type": "execute_result"
    }
   ],
   "source": [
    "df=pd.read_csv('exp10.csv')\n",
    "df1=df[['region_id', 'country_name','gdp']]\n",
    "df1"
   ]
  },
  {
   "cell_type": "code",
   "execution_count": 9,
   "id": "405c4cde",
   "metadata": {},
   "outputs": [
    {
     "data": {
      "text/html": [
       "<div>\n",
       "<style scoped>\n",
       "    .dataframe tbody tr th:only-of-type {\n",
       "        vertical-align: middle;\n",
       "    }\n",
       "\n",
       "    .dataframe tbody tr th {\n",
       "        vertical-align: top;\n",
       "    }\n",
       "\n",
       "    .dataframe thead th {\n",
       "        text-align: right;\n",
       "    }\n",
       "</style>\n",
       "<table border=\"1\" class=\"dataframe\">\n",
       "  <thead>\n",
       "    <tr style=\"text-align: right;\">\n",
       "      <th></th>\n",
       "      <th>region_id</th>\n",
       "      <th>country_name</th>\n",
       "      <th>gdp</th>\n",
       "    </tr>\n",
       "  </thead>\n",
       "  <tbody>\n",
       "    <tr>\n",
       "      <th>0</th>\n",
       "      <td>LCN</td>\n",
       "      <td>Aruba</td>\n",
       "      <td>35563.312500</td>\n",
       "    </tr>\n",
       "    <tr>\n",
       "      <th>1</th>\n",
       "      <td>SAS</td>\n",
       "      <td>Afghanistan</td>\n",
       "      <td>2057.062256</td>\n",
       "    </tr>\n",
       "    <tr>\n",
       "      <th>2</th>\n",
       "      <td>SSF</td>\n",
       "      <td>Angola</td>\n",
       "      <td>8036.690430</td>\n",
       "    </tr>\n",
       "    <tr>\n",
       "      <th>3</th>\n",
       "      <td>ECS</td>\n",
       "      <td>Albania</td>\n",
       "      <td>13724.058590</td>\n",
       "    </tr>\n",
       "    <tr>\n",
       "      <th>4</th>\n",
       "      <td>ECS</td>\n",
       "      <td>Andorra</td>\n",
       "      <td>43711.800780</td>\n",
       "    </tr>\n",
       "  </tbody>\n",
       "</table>\n",
       "</div>"
      ],
      "text/plain": [
       "  region_id country_name           gdp\n",
       "0       LCN        Aruba  35563.312500\n",
       "1       SAS  Afghanistan   2057.062256\n",
       "2       SSF       Angola   8036.690430\n",
       "3       ECS      Albania  13724.058590\n",
       "4       ECS      Andorra  43711.800780"
      ]
     },
     "execution_count": 9,
     "metadata": {},
     "output_type": "execute_result"
    }
   ],
   "source": [
    "df1=df1.head(5)\n",
    "df1"
   ]
  },
  {
   "cell_type": "code",
   "execution_count": 10,
   "id": "d649ba05",
   "metadata": {},
   "outputs": [
    {
     "name": "stdout",
     "output_type": "stream",
     "text": [
      "[['LCN', 'Aruba', 35563.3125], ['SAS', 'Afghanistan', 2057.062256], ['SSF', 'Angola', 8036.69043], ['ECS', 'Albania', 13724.05859], ['ECS', 'Andorra', 43711.80078]]\n"
     ]
    }
   ],
   "source": [
    "ls=df1.values.tolist()\n",
    "print(ls)"
   ]
  },
  {
   "cell_type": "code",
   "execution_count": 11,
   "id": "8df77caa",
   "metadata": {},
   "outputs": [],
   "source": [
    "try:\n",
    "    cursor.execute(\" CREATE TABLE gdp (region_id VARCHAR(100), country_name VARCHAR(100), gdp INT);\")\n",
    "except: \n",
    "    db.rollback()"
   ]
  },
  {
   "cell_type": "code",
   "execution_count": 12,
   "id": "1bdefc54",
   "metadata": {},
   "outputs": [
    {
     "name": "stdout",
     "output_type": "stream",
     "text": [
      "('gdp',)\n"
     ]
    }
   ],
   "source": [
    "cursor.execute(\"SHOW TABLES\")\n",
    "for x in cursor:\n",
    "  print(x)"
   ]
  },
  {
   "cell_type": "code",
   "execution_count": 13,
   "id": "075f1134",
   "metadata": {},
   "outputs": [],
   "source": [
    "sql = \"INSERT INTO gdp(region_id, country_name, gdp) VALUES (%s, %s, %s)\"\n",
    "val = ls\n",
    "cursor.executemany(sql, val)"
   ]
  },
  {
   "cell_type": "code",
   "execution_count": 14,
   "id": "3ed3dc17",
   "metadata": {},
   "outputs": [
    {
     "name": "stdout",
     "output_type": "stream",
     "text": [
      "5 was inserted.\n"
     ]
    }
   ],
   "source": [
    "mydb.commit()\n",
    "print(cursor.rowcount, \"was inserted.\") "
   ]
  },
  {
   "cell_type": "code",
   "execution_count": 15,
   "id": "519be8f6",
   "metadata": {},
   "outputs": [],
   "source": [
    "cursor = db.cursor(buffered=True)"
   ]
  },
  {
   "cell_type": "code",
   "execution_count": 16,
   "id": "da31752c",
   "metadata": {},
   "outputs": [
    {
     "name": "stdout",
     "output_type": "stream",
     "text": [
      "('LCN', 'Aruba', 35563)\n",
      "('SAS', 'Afghanistan', 2057)\n",
      "('SSF', 'Angola', 8037)\n",
      "('ECS', 'Albania', 13724)\n",
      "('ECS', 'Andorra', 43712)\n"
     ]
    }
   ],
   "source": [
    "cursor.execute(\"SELECT * FROM gdp\")\n",
    "result = cursor.fetchall()\n",
    "for x in result:\n",
    "  print(x)"
   ]
  },
  {
   "cell_type": "code",
   "execution_count": 17,
   "id": "3db72cf7",
   "metadata": {},
   "outputs": [
    {
     "name": "stdout",
     "output_type": "stream",
     "text": [
      "1 record(s) deleted\n"
     ]
    }
   ],
   "source": [
    "sql = \"DELETE FROM gdp WHERE region_id='SAS'\"\n",
    "cursor.execute(sql)\n",
    "mydb.commit()\n",
    "print(cursor.rowcount, \"record(s) deleted\")"
   ]
  },
  {
   "cell_type": "code",
   "execution_count": 18,
   "id": "771323f0",
   "metadata": {},
   "outputs": [
    {
     "name": "stdout",
     "output_type": "stream",
     "text": [
      "('LCN', 'Aruba', 35563)\n",
      "('SSF', 'Angola', 8037)\n",
      "('ECS', 'Albania', 13724)\n",
      "('ECS', 'Andorra', 43712)\n"
     ]
    }
   ],
   "source": [
    "cursor.execute(\"SELECT * FROM gdp\")\n",
    "result = cursor.fetchall()\n",
    "for x in result:\n",
    "  print(x)"
   ]
  }
 ],
 "metadata": {
  "kernelspec": {
   "display_name": "Python 3 (ipykernel)",
   "language": "python",
   "name": "python3"
  },
  "language_info": {
   "codemirror_mode": {
    "name": "ipython",
    "version": 3
   },
   "file_extension": ".py",
   "mimetype": "text/x-python",
   "name": "python",
   "nbconvert_exporter": "python",
   "pygments_lexer": "ipython3",
   "version": "3.9.13"
  }
 },
 "nbformat": 4,
 "nbformat_minor": 5
}
