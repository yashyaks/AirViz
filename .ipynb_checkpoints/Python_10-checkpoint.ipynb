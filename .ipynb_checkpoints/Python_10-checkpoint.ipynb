{
 "cells": [
  {
   "cell_type": "code",
   "execution_count": 1,
   "id": "d498dbb6-dbf5-44ab-90cd-b75204c3b583",
   "metadata": {},
   "outputs": [],
   "source": [
    "#pip install mysql-connector-python\n",
    "\n",
    "import pandas as pd\n",
    "import numpy as np\n",
    "import mysql.connector"
   ]
  },
  {
   "cell_type": "code",
   "execution_count": 2,
   "id": "6662e2a2-1743-45e3-b2fb-23c8cb049e17",
   "metadata": {},
   "outputs": [],
   "source": [
    "db = mysql.connector.connect(host='localhost', user='root', password='****')"
   ]
  },
  {
   "cell_type": "code",
   "execution_count": 3,
   "id": "8a9102a4-368d-49b3-9b33-906a8421dc26",
   "metadata": {},
   "outputs": [],
   "source": [
    "cursor = db.cursor()"
   ]
  },
  {
   "cell_type": "code",
   "execution_count": 4,
   "id": "f31e5340-17e4-4350-9f1d-d72754478e94",
   "metadata": {},
   "outputs": [],
   "source": [
    "try:\n",
    "    cursor.execute(\"CREATE DATABASE Python10\")\n",
    "except:\n",
    "    db.rollback()"
   ]
  },
  {
   "cell_type": "code",
   "execution_count": 5,
   "id": "c6fd1aff-6fe6-4f1e-8ea8-985b3e792f4b",
   "metadata": {},
   "outputs": [
    {
     "name": "stdout",
     "output_type": "stream",
     "text": [
      "('dbms',)\n",
      "('information_schema',)\n",
      "('market',)\n",
      "('mysql',)\n",
      "('office',)\n",
      "('performance_schema',)\n",
      "('python10',)\n",
      "('python10miniproject',)\n",
      "('pythonexpt10',)\n",
      "('sys',)\n",
      "('testdb',)\n"
     ]
    }
   ],
   "source": [
    "cursor.execute(\"SHOW DATABASES\")\n",
    "for x in cursor:\n",
    "  print(x)"
   ]
  },
  {
   "cell_type": "code",
   "execution_count": 6,
   "id": "35b820db-b81d-43e7-bd41-70963d021c50",
   "metadata": {},
   "outputs": [],
   "source": [
    "mydb = mysql.connector.connect(\n",
    "  host=\"localhost\",\n",
    "  user=\"root\",\n",
    "  password=\"****\",\n",
    "  database=\"python10\"\n",
    ") "
   ]
  },
  {
   "cell_type": "code",
   "execution_count": 7,
   "id": "fbe7c7f5-5efb-4280-a42a-3b67c4eb1acb",
   "metadata": {},
   "outputs": [],
   "source": [
    "cursor.execute('USE python10')"
   ]
  },
  {
   "cell_type": "code",
   "execution_count": 8,
   "id": "179da85f-9f32-4bf0-88fa-c38aa31641e7",
   "metadata": {},
   "outputs": [],
   "source": [
    "df=pd.read_excel('01_District_wise_crimes_committed_IPC_2001_2012.xlsx')\n",
    "df1=df[['STATE','DISTRICT','YEAR','MURDER']]"
   ]
  },
  {
   "cell_type": "code",
   "execution_count": 9,
   "id": "01c48ebd-3b4e-43e2-b14a-439637628b3b",
   "metadata": {},
   "outputs": [
    {
     "data": {
      "text/html": [
       "<div>\n",
       "<style scoped>\n",
       "    .dataframe tbody tr th:only-of-type {\n",
       "        vertical-align: middle;\n",
       "    }\n",
       "\n",
       "    .dataframe tbody tr th {\n",
       "        vertical-align: top;\n",
       "    }\n",
       "\n",
       "    .dataframe thead th {\n",
       "        text-align: right;\n",
       "    }\n",
       "</style>\n",
       "<table border=\"1\" class=\"dataframe\">\n",
       "  <thead>\n",
       "    <tr style=\"text-align: right;\">\n",
       "      <th></th>\n",
       "      <th>STATE</th>\n",
       "      <th>DISTRICT</th>\n",
       "      <th>YEAR</th>\n",
       "      <th>MURDER</th>\n",
       "    </tr>\n",
       "  </thead>\n",
       "  <tbody>\n",
       "    <tr>\n",
       "      <th>0</th>\n",
       "      <td>ANDHRA PRADESH</td>\n",
       "      <td>ADILABAD</td>\n",
       "      <td>2001</td>\n",
       "      <td>101</td>\n",
       "    </tr>\n",
       "    <tr>\n",
       "      <th>1</th>\n",
       "      <td>ANDHRA PRADESH</td>\n",
       "      <td>ANANTAPUR</td>\n",
       "      <td>2001</td>\n",
       "      <td>151</td>\n",
       "    </tr>\n",
       "    <tr>\n",
       "      <th>2</th>\n",
       "      <td>ANDHRA PRADESH</td>\n",
       "      <td>CHITTOOR</td>\n",
       "      <td>2001</td>\n",
       "      <td>101</td>\n",
       "    </tr>\n",
       "    <tr>\n",
       "      <th>3</th>\n",
       "      <td>ANDHRA PRADESH</td>\n",
       "      <td>CUDDAPAH</td>\n",
       "      <td>2001</td>\n",
       "      <td>80</td>\n",
       "    </tr>\n",
       "    <tr>\n",
       "      <th>4</th>\n",
       "      <td>ANDHRA PRADESH</td>\n",
       "      <td>EAST GODAVARI</td>\n",
       "      <td>2001</td>\n",
       "      <td>82</td>\n",
       "    </tr>\n",
       "  </tbody>\n",
       "</table>\n",
       "</div>"
      ],
      "text/plain": [
       "            STATE       DISTRICT  YEAR  MURDER\n",
       "0  ANDHRA PRADESH       ADILABAD  2001     101\n",
       "1  ANDHRA PRADESH      ANANTAPUR  2001     151\n",
       "2  ANDHRA PRADESH       CHITTOOR  2001     101\n",
       "3  ANDHRA PRADESH       CUDDAPAH  2001      80\n",
       "4  ANDHRA PRADESH  EAST GODAVARI  2001      82"
      ]
     },
     "execution_count": 9,
     "metadata": {},
     "output_type": "execute_result"
    }
   ],
   "source": [
    "df1=df1.head(5)\n",
    "df1.head()"
   ]
  },
  {
   "cell_type": "code",
   "execution_count": 10,
   "id": "4ab76467-2325-4476-9372-d9aa4aaa9978",
   "metadata": {},
   "outputs": [
    {
     "name": "stdout",
     "output_type": "stream",
     "text": [
      "[['ANDHRA PRADESH', 'ADILABAD', 2001, 101], ['ANDHRA PRADESH', 'ANANTAPUR', 2001, 151], ['ANDHRA PRADESH', 'CHITTOOR', 2001, 101], ['ANDHRA PRADESH', 'CUDDAPAH', 2001, 80], ['ANDHRA PRADESH', 'EAST GODAVARI', 2001, 82]]\n"
     ]
    }
   ],
   "source": [
    "ls=df1.values.tolist()\n",
    "print(ls)"
   ]
  },
  {
   "cell_type": "code",
   "execution_count": 11,
   "id": "d04b8954-be30-4a3e-b8a0-97e1db91566a",
   "metadata": {},
   "outputs": [],
   "source": [
    "try:\n",
    "    cursor.execute(\"CREATE TABLE crime (STATE VARCHAR(50), DISTRICT VARCHAR(50),YEAR INT, MURDER INT)\")\n",
    "except:\n",
    "    db.rollback()"
   ]
  },
  {
   "cell_type": "code",
   "execution_count": 12,
   "id": "a967c592-ce01-42ba-a913-7a4f6df7df2c",
   "metadata": {},
   "outputs": [
    {
     "name": "stdout",
     "output_type": "stream",
     "text": [
      "('crime',)\n"
     ]
    }
   ],
   "source": [
    "cursor.execute(\"SHOW TABLES\")\n",
    "for x in cursor:\n",
    "  print(x)"
   ]
  },
  {
   "cell_type": "code",
   "execution_count": 14,
   "id": "aca135d5-fa9b-4e0d-b5a7-dd4fb3f6201b",
   "metadata": {},
   "outputs": [],
   "source": [
    "sql = \"INSERT INTO crime(STATE, DISTRICT, YEAR, MURDER) VALUES (%s, %s, %s, %s)\"\n",
    "val = ls\n",
    "cursor.executemany(sql, val)"
   ]
  },
  {
   "cell_type": "code",
   "execution_count": 15,
   "id": "55747268-3630-4996-930f-bbb2d98aee35",
   "metadata": {},
   "outputs": [
    {
     "name": "stdout",
     "output_type": "stream",
     "text": [
      "5 was inserted.\n"
     ]
    }
   ],
   "source": [
    "mydb.commit()\n",
    "print(cursor.rowcount, \"was inserted.\") "
   ]
  },
  {
   "cell_type": "code",
   "execution_count": 16,
   "id": "4cbc0ee9-a21b-4f3b-b705-aad9bffcd6b5",
   "metadata": {},
   "outputs": [],
   "source": [
    "cursor = db.cursor(buffered=True)"
   ]
  },
  {
   "cell_type": "code",
   "execution_count": 18,
   "id": "fcdf5c53-5624-45ff-98c7-93e482b37737",
   "metadata": {},
   "outputs": [
    {
     "name": "stdout",
     "output_type": "stream",
     "text": [
      "('ANDHRA PRADESH', 'ADILABAD', 2001, 101)\n",
      "('ANDHRA PRADESH', 'ANANTAPUR', 2001, 151)\n",
      "('ANDHRA PRADESH', 'CHITTOOR', 2001, 101)\n",
      "('ANDHRA PRADESH', 'CUDDAPAH', 2001, 80)\n",
      "('ANDHRA PRADESH', 'EAST GODAVARI', 2001, 82)\n"
     ]
    }
   ],
   "source": [
    "cursor.execute(\"SELECT * FROM crime\")\n",
    "result = cursor.fetchall()\n",
    "for x in result:\n",
    "  print(x)"
   ]
  },
  {
   "cell_type": "code",
   "execution_count": 19,
   "id": "a3737631-e042-4f3e-a299-249140b2ee51",
   "metadata": {},
   "outputs": [
    {
     "name": "stdout",
     "output_type": "stream",
     "text": [
      "2 record(s) deleted\n"
     ]
    }
   ],
   "source": [
    "sql = \"DELETE FROM crime WHERE MURDER <= 100\"\n",
    "cursor.execute(sql)\n",
    "mydb.commit()\n",
    "print(cursor.rowcount, \"record(s) deleted\")"
   ]
  },
  {
   "cell_type": "code",
   "execution_count": 20,
   "id": "28897238-4b1b-41d5-a2ea-ec3a9b320781",
   "metadata": {},
   "outputs": [
    {
     "name": "stdout",
     "output_type": "stream",
     "text": [
      "('ANDHRA PRADESH', 'ADILABAD', 2001, 101)\n",
      "('ANDHRA PRADESH', 'ANANTAPUR', 2001, 151)\n",
      "('ANDHRA PRADESH', 'CHITTOOR', 2001, 101)\n"
     ]
    }
   ],
   "source": [
    "cursor.execute(\"SELECT * FROM crime\")\n",
    "result = cursor.fetchall()\n",
    "for x in result:\n",
    "  print(x)"
   ]
  }
 ],
 "metadata": {
  "kernelspec": {
   "display_name": "Python 3 (ipykernel)",
   "language": "python",
   "name": "python3"
  },
  "language_info": {
   "codemirror_mode": {
    "name": "ipython",
    "version": 3
   },
   "file_extension": ".py",
   "mimetype": "text/x-python",
   "name": "python",
   "nbconvert_exporter": "python",
   "pygments_lexer": "ipython3",
   "version": "3.9.13"
  }
 },
 "nbformat": 4,
 "nbformat_minor": 5
}
