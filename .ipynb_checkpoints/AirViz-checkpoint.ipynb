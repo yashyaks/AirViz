{
 "cells": [
  {
   "cell_type": "code",
   "execution_count": 2,
   "id": "66e260b3-86b2-4ced-bebc-130cc0133d29",
   "metadata": {},
   "outputs": [],
   "source": [
    "import pandas as pd\n",
    "import numpy as np\n",
    "\n",
    "import matplotlib.pyplot as plt\n",
    "import seaborn as sns\n",
    "\n",
    "import folium"
   ]
  },
  {
   "cell_type": "markdown",
   "id": "fecede19-2e25-405b-bf2f-ef54df52d920",
   "metadata": {},
   "source": [
    "## Importing CSVs"
   ]
  },
  {
   "cell_type": "code",
   "execution_count": 3,
   "id": "3246163e-0e95-4be6-9d09-ab120f3727c7",
   "metadata": {},
   "outputs": [],
   "source": [
    "airports_ex = pd.read_csv('airports-extended.csv')\n",
    "routes = pd.read_csv('routes.csv')\n",
    "airlines = pd.read_csv('airlines.csv')"
   ]
  },
  {
   "cell_type": "markdown",
   "id": "0824678c-19fd-498d-adfe-b861172cc4f5",
   "metadata": {},
   "source": [
    "## Preprocessing airports data"
   ]
  },
  {
   "cell_type": "code",
   "execution_count": 4,
   "id": "37cc5841-865a-48b0-bc9d-71e761e7841f",
   "metadata": {},
   "outputs": [
    {
     "data": {
      "text/html": [
       "<div>\n",
       "<style scoped>\n",
       "    .dataframe tbody tr th:only-of-type {\n",
       "        vertical-align: middle;\n",
       "    }\n",
       "\n",
       "    .dataframe tbody tr th {\n",
       "        vertical-align: top;\n",
       "    }\n",
       "\n",
       "    .dataframe thead th {\n",
       "        text-align: right;\n",
       "    }\n",
       "</style>\n",
       "<table border=\"1\" class=\"dataframe\">\n",
       "  <thead>\n",
       "    <tr style=\"text-align: right;\">\n",
       "      <th></th>\n",
       "      <th>1</th>\n",
       "      <th>Goroka Airport</th>\n",
       "      <th>Goroka</th>\n",
       "      <th>Papua New Guinea</th>\n",
       "      <th>GKA</th>\n",
       "      <th>AYGA</th>\n",
       "      <th>-6.08168983459</th>\n",
       "      <th>145.391998291</th>\n",
       "      <th>5282</th>\n",
       "      <th>10</th>\n",
       "      <th>U</th>\n",
       "      <th>Pacific/Port_Moresby</th>\n",
       "      <th>airport</th>\n",
       "      <th>OurAirports</th>\n",
       "    </tr>\n",
       "  </thead>\n",
       "  <tbody>\n",
       "    <tr>\n",
       "      <th>0</th>\n",
       "      <td>2</td>\n",
       "      <td>Madang Airport</td>\n",
       "      <td>Madang</td>\n",
       "      <td>Papua New Guinea</td>\n",
       "      <td>MAG</td>\n",
       "      <td>AYMD</td>\n",
       "      <td>-5.207080</td>\n",
       "      <td>145.789001</td>\n",
       "      <td>20</td>\n",
       "      <td>10.0</td>\n",
       "      <td>U</td>\n",
       "      <td>Pacific/Port_Moresby</td>\n",
       "      <td>airport</td>\n",
       "      <td>OurAirports</td>\n",
       "    </tr>\n",
       "    <tr>\n",
       "      <th>1</th>\n",
       "      <td>3</td>\n",
       "      <td>Mount Hagen Kagamuga Airport</td>\n",
       "      <td>Mount Hagen</td>\n",
       "      <td>Papua New Guinea</td>\n",
       "      <td>HGU</td>\n",
       "      <td>AYMH</td>\n",
       "      <td>-5.826790</td>\n",
       "      <td>144.296005</td>\n",
       "      <td>5388</td>\n",
       "      <td>10.0</td>\n",
       "      <td>U</td>\n",
       "      <td>Pacific/Port_Moresby</td>\n",
       "      <td>airport</td>\n",
       "      <td>OurAirports</td>\n",
       "    </tr>\n",
       "    <tr>\n",
       "      <th>2</th>\n",
       "      <td>4</td>\n",
       "      <td>Nadzab Airport</td>\n",
       "      <td>Nadzab</td>\n",
       "      <td>Papua New Guinea</td>\n",
       "      <td>LAE</td>\n",
       "      <td>AYNZ</td>\n",
       "      <td>-6.569803</td>\n",
       "      <td>146.725977</td>\n",
       "      <td>239</td>\n",
       "      <td>10.0</td>\n",
       "      <td>U</td>\n",
       "      <td>Pacific/Port_Moresby</td>\n",
       "      <td>airport</td>\n",
       "      <td>OurAirports</td>\n",
       "    </tr>\n",
       "    <tr>\n",
       "      <th>3</th>\n",
       "      <td>5</td>\n",
       "      <td>Port Moresby Jacksons International Airport</td>\n",
       "      <td>Port Moresby</td>\n",
       "      <td>Papua New Guinea</td>\n",
       "      <td>POM</td>\n",
       "      <td>AYPY</td>\n",
       "      <td>-9.443380</td>\n",
       "      <td>147.220001</td>\n",
       "      <td>146</td>\n",
       "      <td>10.0</td>\n",
       "      <td>U</td>\n",
       "      <td>Pacific/Port_Moresby</td>\n",
       "      <td>airport</td>\n",
       "      <td>OurAirports</td>\n",
       "    </tr>\n",
       "    <tr>\n",
       "      <th>4</th>\n",
       "      <td>6</td>\n",
       "      <td>Wewak International Airport</td>\n",
       "      <td>Wewak</td>\n",
       "      <td>Papua New Guinea</td>\n",
       "      <td>WWK</td>\n",
       "      <td>AYWK</td>\n",
       "      <td>-3.583830</td>\n",
       "      <td>143.669006</td>\n",
       "      <td>19</td>\n",
       "      <td>10.0</td>\n",
       "      <td>U</td>\n",
       "      <td>Pacific/Port_Moresby</td>\n",
       "      <td>airport</td>\n",
       "      <td>OurAirports</td>\n",
       "    </tr>\n",
       "  </tbody>\n",
       "</table>\n",
       "</div>"
      ],
      "text/plain": [
       "   1                               Goroka Airport        Goroka  \\\n",
       "0  2                               Madang Airport        Madang   \n",
       "1  3                 Mount Hagen Kagamuga Airport   Mount Hagen   \n",
       "2  4                               Nadzab Airport        Nadzab   \n",
       "3  5  Port Moresby Jacksons International Airport  Port Moresby   \n",
       "4  6                  Wewak International Airport         Wewak   \n",
       "\n",
       "   Papua New Guinea  GKA  AYGA  -6.08168983459  145.391998291  5282    10  U  \\\n",
       "0  Papua New Guinea  MAG  AYMD       -5.207080     145.789001    20  10.0  U   \n",
       "1  Papua New Guinea  HGU  AYMH       -5.826790     144.296005  5388  10.0  U   \n",
       "2  Papua New Guinea  LAE  AYNZ       -6.569803     146.725977   239  10.0  U   \n",
       "3  Papua New Guinea  POM  AYPY       -9.443380     147.220001   146  10.0  U   \n",
       "4  Papua New Guinea  WWK  AYWK       -3.583830     143.669006    19  10.0  U   \n",
       "\n",
       "   Pacific/Port_Moresby  airport  OurAirports  \n",
       "0  Pacific/Port_Moresby  airport  OurAirports  \n",
       "1  Pacific/Port_Moresby  airport  OurAirports  \n",
       "2  Pacific/Port_Moresby  airport  OurAirports  \n",
       "3  Pacific/Port_Moresby  airport  OurAirports  \n",
       "4  Pacific/Port_Moresby  airport  OurAirports  "
      ]
     },
     "execution_count": 4,
     "metadata": {},
     "output_type": "execute_result"
    }
   ],
   "source": [
    "airports_ex.head()"
   ]
  },
  {
   "cell_type": "code",
   "execution_count": 5,
   "id": "6b2f91d8-b9bb-41eb-b4f2-af21ad763ed5",
   "metadata": {},
   "outputs": [],
   "source": [
    "airports_ex.columns = ['Airport_ID', 'Airport_Name', 'City', 'Country', 'IATA', 'ICAO', 'Latitude', 'Longitude', 'Altitude', 'Timezone', 'DST', 'Tz database time zone','Type', 'Source']"
   ]
  },
  {
   "cell_type": "code",
   "execution_count": 6,
   "id": "f03ce381-9735-459c-bc2d-49f8029c552c",
   "metadata": {},
   "outputs": [
    {
     "data": {
      "text/html": [
       "<div>\n",
       "<style scoped>\n",
       "    .dataframe tbody tr th:only-of-type {\n",
       "        vertical-align: middle;\n",
       "    }\n",
       "\n",
       "    .dataframe tbody tr th {\n",
       "        vertical-align: top;\n",
       "    }\n",
       "\n",
       "    .dataframe thead th {\n",
       "        text-align: right;\n",
       "    }\n",
       "</style>\n",
       "<table border=\"1\" class=\"dataframe\">\n",
       "  <thead>\n",
       "    <tr style=\"text-align: right;\">\n",
       "      <th></th>\n",
       "      <th>Airport_ID</th>\n",
       "      <th>Airport_Name</th>\n",
       "      <th>City</th>\n",
       "      <th>Country</th>\n",
       "      <th>IATA</th>\n",
       "      <th>ICAO</th>\n",
       "      <th>Latitude</th>\n",
       "      <th>Longitude</th>\n",
       "      <th>Altitude</th>\n",
       "      <th>Timezone</th>\n",
       "      <th>DST</th>\n",
       "      <th>Tz database time zone</th>\n",
       "      <th>Type</th>\n",
       "      <th>Source</th>\n",
       "    </tr>\n",
       "  </thead>\n",
       "  <tbody>\n",
       "    <tr>\n",
       "      <th>0</th>\n",
       "      <td>2</td>\n",
       "      <td>Madang Airport</td>\n",
       "      <td>Madang</td>\n",
       "      <td>Papua New Guinea</td>\n",
       "      <td>MAG</td>\n",
       "      <td>AYMD</td>\n",
       "      <td>-5.207080</td>\n",
       "      <td>145.789001</td>\n",
       "      <td>20</td>\n",
       "      <td>10.0</td>\n",
       "      <td>U</td>\n",
       "      <td>Pacific/Port_Moresby</td>\n",
       "      <td>airport</td>\n",
       "      <td>OurAirports</td>\n",
       "    </tr>\n",
       "    <tr>\n",
       "      <th>1</th>\n",
       "      <td>3</td>\n",
       "      <td>Mount Hagen Kagamuga Airport</td>\n",
       "      <td>Mount Hagen</td>\n",
       "      <td>Papua New Guinea</td>\n",
       "      <td>HGU</td>\n",
       "      <td>AYMH</td>\n",
       "      <td>-5.826790</td>\n",
       "      <td>144.296005</td>\n",
       "      <td>5388</td>\n",
       "      <td>10.0</td>\n",
       "      <td>U</td>\n",
       "      <td>Pacific/Port_Moresby</td>\n",
       "      <td>airport</td>\n",
       "      <td>OurAirports</td>\n",
       "    </tr>\n",
       "    <tr>\n",
       "      <th>2</th>\n",
       "      <td>4</td>\n",
       "      <td>Nadzab Airport</td>\n",
       "      <td>Nadzab</td>\n",
       "      <td>Papua New Guinea</td>\n",
       "      <td>LAE</td>\n",
       "      <td>AYNZ</td>\n",
       "      <td>-6.569803</td>\n",
       "      <td>146.725977</td>\n",
       "      <td>239</td>\n",
       "      <td>10.0</td>\n",
       "      <td>U</td>\n",
       "      <td>Pacific/Port_Moresby</td>\n",
       "      <td>airport</td>\n",
       "      <td>OurAirports</td>\n",
       "    </tr>\n",
       "    <tr>\n",
       "      <th>3</th>\n",
       "      <td>5</td>\n",
       "      <td>Port Moresby Jacksons International Airport</td>\n",
       "      <td>Port Moresby</td>\n",
       "      <td>Papua New Guinea</td>\n",
       "      <td>POM</td>\n",
       "      <td>AYPY</td>\n",
       "      <td>-9.443380</td>\n",
       "      <td>147.220001</td>\n",
       "      <td>146</td>\n",
       "      <td>10.0</td>\n",
       "      <td>U</td>\n",
       "      <td>Pacific/Port_Moresby</td>\n",
       "      <td>airport</td>\n",
       "      <td>OurAirports</td>\n",
       "    </tr>\n",
       "    <tr>\n",
       "      <th>4</th>\n",
       "      <td>6</td>\n",
       "      <td>Wewak International Airport</td>\n",
       "      <td>Wewak</td>\n",
       "      <td>Papua New Guinea</td>\n",
       "      <td>WWK</td>\n",
       "      <td>AYWK</td>\n",
       "      <td>-3.583830</td>\n",
       "      <td>143.669006</td>\n",
       "      <td>19</td>\n",
       "      <td>10.0</td>\n",
       "      <td>U</td>\n",
       "      <td>Pacific/Port_Moresby</td>\n",
       "      <td>airport</td>\n",
       "      <td>OurAirports</td>\n",
       "    </tr>\n",
       "  </tbody>\n",
       "</table>\n",
       "</div>"
      ],
      "text/plain": [
       "   Airport_ID                                 Airport_Name          City  \\\n",
       "0           2                               Madang Airport        Madang   \n",
       "1           3                 Mount Hagen Kagamuga Airport   Mount Hagen   \n",
       "2           4                               Nadzab Airport        Nadzab   \n",
       "3           5  Port Moresby Jacksons International Airport  Port Moresby   \n",
       "4           6                  Wewak International Airport         Wewak   \n",
       "\n",
       "            Country IATA  ICAO  Latitude   Longitude  Altitude  Timezone DST  \\\n",
       "0  Papua New Guinea  MAG  AYMD -5.207080  145.789001        20      10.0   U   \n",
       "1  Papua New Guinea  HGU  AYMH -5.826790  144.296005      5388      10.0   U   \n",
       "2  Papua New Guinea  LAE  AYNZ -6.569803  146.725977       239      10.0   U   \n",
       "3  Papua New Guinea  POM  AYPY -9.443380  147.220001       146      10.0   U   \n",
       "4  Papua New Guinea  WWK  AYWK -3.583830  143.669006        19      10.0   U   \n",
       "\n",
       "  Tz database time zone     Type       Source  \n",
       "0  Pacific/Port_Moresby  airport  OurAirports  \n",
       "1  Pacific/Port_Moresby  airport  OurAirports  \n",
       "2  Pacific/Port_Moresby  airport  OurAirports  \n",
       "3  Pacific/Port_Moresby  airport  OurAirports  \n",
       "4  Pacific/Port_Moresby  airport  OurAirports  "
      ]
     },
     "execution_count": 6,
     "metadata": {},
     "output_type": "execute_result"
    }
   ],
   "source": [
    "airports_ex.head()"
   ]
  },
  {
   "cell_type": "code",
   "execution_count": 7,
   "id": "1fcf398e-c8f9-48ef-99a2-92fdf5b27097",
   "metadata": {},
   "outputs": [
    {
     "data": {
      "text/plain": [
       "airport    8263\n",
       "station    1332\n",
       "unknown    1320\n",
       "port        101\n",
       "Name: Type, dtype: int64"
      ]
     },
     "execution_count": 7,
     "metadata": {},
     "output_type": "execute_result"
    }
   ],
   "source": [
    "airports_ex['Type'].value_counts()"
   ]
  },
  {
   "cell_type": "code",
   "execution_count": 8,
   "id": "fc3ccb23-8bda-45de-9e95-28e0000f648e",
   "metadata": {},
   "outputs": [],
   "source": [
    "airports =  airports_ex.drop(airports_ex.loc[airports_ex['Type'] != 'airport' ].index)"
   ]
  },
  {
   "cell_type": "code",
   "execution_count": 9,
   "id": "4998017b-050c-48b3-b06b-6acd53be9df2",
   "metadata": {},
   "outputs": [
    {
     "data": {
      "text/plain": [
       "airport    8263\n",
       "Name: Type, dtype: int64"
      ]
     },
     "execution_count": 9,
     "metadata": {},
     "output_type": "execute_result"
    }
   ],
   "source": [
    "airports['Type'].value_counts()"
   ]
  },
  {
   "cell_type": "code",
   "execution_count": 10,
   "id": "81086358-ba64-4f23-b33c-d6f0685bd6ef",
   "metadata": {},
   "outputs": [
    {
     "name": "stdout",
     "output_type": "stream",
     "text": [
      "<class 'pandas.core.frame.DataFrame'>\n",
      "Int64Index: 8263 entries, 0 to 12665\n",
      "Data columns (total 14 columns):\n",
      " #   Column                 Non-Null Count  Dtype  \n",
      "---  ------                 --------------  -----  \n",
      " 0   Airport_ID             8263 non-null   int64  \n",
      " 1   Airport_Name           8263 non-null   object \n",
      " 2   City                   8214 non-null   object \n",
      " 3   Country                8263 non-null   object \n",
      " 4   IATA                   6471 non-null   object \n",
      " 5   ICAO                   7754 non-null   object \n",
      " 6   Latitude               8263 non-null   float64\n",
      " 7   Longitude              8263 non-null   float64\n",
      " 8   Altitude               8263 non-null   int64  \n",
      " 9   Timezone               7910 non-null   float64\n",
      " 10  DST                    7910 non-null   object \n",
      " 11  Tz database time zone  7147 non-null   object \n",
      " 12  Type                   8263 non-null   object \n",
      " 13  Source                 8263 non-null   object \n",
      "dtypes: float64(3), int64(2), object(9)\n",
      "memory usage: 968.3+ KB\n"
     ]
    }
   ],
   "source": [
    "airports.info()"
   ]
  },
  {
   "cell_type": "markdown",
   "id": "24100b8a-1f98-4ad8-93da-410ed4eb7c25",
   "metadata": {},
   "source": [
    "## VIS_1: Top 20 COuntries with most number of Airports"
   ]
  },
  {
   "cell_type": "code",
   "execution_count": 11,
   "id": "3aba705f-0e38-4d1e-9e65-f64fe2cffc60",
   "metadata": {},
   "outputs": [
    {
     "data": {
      "text/plain": [
       "United States    1752\n",
       "Canada            459\n",
       "Australia         343\n",
       "Russia            271\n",
       "Brazil            269\n",
       "                 ... \n",
       "Isle of Man         1\n",
       "Jersey              1\n",
       "West Bank           1\n",
       "Gambia              1\n",
       "Wake Island         1\n",
       "Name: Country, Length: 237, dtype: int64"
      ]
     },
     "execution_count": 11,
     "metadata": {},
     "output_type": "execute_result"
    }
   ],
   "source": [
    "airports['Country'].value_counts()"
   ]
  },
  {
   "cell_type": "code",
   "execution_count": 12,
   "id": "4ac67e8c-3742-4197-9fa4-40571d2e0ae6",
   "metadata": {},
   "outputs": [
    {
     "data": {
      "text/html": [
       "<div>\n",
       "<style scoped>\n",
       "    .dataframe tbody tr th:only-of-type {\n",
       "        vertical-align: middle;\n",
       "    }\n",
       "\n",
       "    .dataframe tbody tr th {\n",
       "        vertical-align: top;\n",
       "    }\n",
       "\n",
       "    .dataframe thead th {\n",
       "        text-align: right;\n",
       "    }\n",
       "</style>\n",
       "<table border=\"1\" class=\"dataframe\">\n",
       "  <thead>\n",
       "    <tr style=\"text-align: right;\">\n",
       "      <th></th>\n",
       "      <th>Country</th>\n",
       "      <th>no_of_airports</th>\n",
       "    </tr>\n",
       "  </thead>\n",
       "  <tbody>\n",
       "    <tr>\n",
       "      <th>0</th>\n",
       "      <td>United States</td>\n",
       "      <td>1752</td>\n",
       "    </tr>\n",
       "    <tr>\n",
       "      <th>1</th>\n",
       "      <td>Canada</td>\n",
       "      <td>459</td>\n",
       "    </tr>\n",
       "    <tr>\n",
       "      <th>2</th>\n",
       "      <td>Australia</td>\n",
       "      <td>343</td>\n",
       "    </tr>\n",
       "    <tr>\n",
       "      <th>3</th>\n",
       "      <td>Russia</td>\n",
       "      <td>271</td>\n",
       "    </tr>\n",
       "    <tr>\n",
       "      <th>4</th>\n",
       "      <td>Brazil</td>\n",
       "      <td>269</td>\n",
       "    </tr>\n",
       "    <tr>\n",
       "      <th>5</th>\n",
       "      <td>Germany</td>\n",
       "      <td>257</td>\n",
       "    </tr>\n",
       "    <tr>\n",
       "      <th>6</th>\n",
       "      <td>China</td>\n",
       "      <td>251</td>\n",
       "    </tr>\n",
       "    <tr>\n",
       "      <th>7</th>\n",
       "      <td>France</td>\n",
       "      <td>221</td>\n",
       "    </tr>\n",
       "    <tr>\n",
       "      <th>8</th>\n",
       "      <td>United Kingdom</td>\n",
       "      <td>177</td>\n",
       "    </tr>\n",
       "    <tr>\n",
       "      <th>9</th>\n",
       "      <td>Indonesia</td>\n",
       "      <td>158</td>\n",
       "    </tr>\n",
       "    <tr>\n",
       "      <th>10</th>\n",
       "      <td>India</td>\n",
       "      <td>153</td>\n",
       "    </tr>\n",
       "    <tr>\n",
       "      <th>11</th>\n",
       "      <td>Japan</td>\n",
       "      <td>131</td>\n",
       "    </tr>\n",
       "    <tr>\n",
       "      <th>12</th>\n",
       "      <td>South Africa</td>\n",
       "      <td>103</td>\n",
       "    </tr>\n",
       "    <tr>\n",
       "      <th>13</th>\n",
       "      <td>Argentina</td>\n",
       "      <td>96</td>\n",
       "    </tr>\n",
       "    <tr>\n",
       "      <th>14</th>\n",
       "      <td>Mexico</td>\n",
       "      <td>88</td>\n",
       "    </tr>\n",
       "    <tr>\n",
       "      <th>15</th>\n",
       "      <td>Italy</td>\n",
       "      <td>86</td>\n",
       "    </tr>\n",
       "    <tr>\n",
       "      <th>16</th>\n",
       "      <td>Iran</td>\n",
       "      <td>83</td>\n",
       "    </tr>\n",
       "    <tr>\n",
       "      <th>17</th>\n",
       "      <td>Sweden</td>\n",
       "      <td>80</td>\n",
       "    </tr>\n",
       "    <tr>\n",
       "      <th>18</th>\n",
       "      <td>Turkey</td>\n",
       "      <td>78</td>\n",
       "    </tr>\n",
       "    <tr>\n",
       "      <th>19</th>\n",
       "      <td>Colombia</td>\n",
       "      <td>78</td>\n",
       "    </tr>\n",
       "  </tbody>\n",
       "</table>\n",
       "</div>"
      ],
      "text/plain": [
       "           Country  no_of_airports\n",
       "0    United States            1752\n",
       "1           Canada             459\n",
       "2        Australia             343\n",
       "3           Russia             271\n",
       "4           Brazil             269\n",
       "5          Germany             257\n",
       "6            China             251\n",
       "7           France             221\n",
       "8   United Kingdom             177\n",
       "9        Indonesia             158\n",
       "10           India             153\n",
       "11           Japan             131\n",
       "12    South Africa             103\n",
       "13       Argentina              96\n",
       "14          Mexico              88\n",
       "15           Italy              86\n",
       "16            Iran              83\n",
       "17          Sweden              80\n",
       "18          Turkey              78\n",
       "19        Colombia              78"
      ]
     },
     "execution_count": 12,
     "metadata": {},
     "output_type": "execute_result"
    }
   ],
   "source": [
    "plot_df1 = (\n",
    "    airports['Country'].value_counts()\n",
    "        .head(20)\n",
    "        .rename_axis('Country')\n",
    "        .reset_index(name='no_of_airports')\n",
    ")\n",
    "plot_df1"
   ]
  },
  {
   "cell_type": "code",
   "execution_count": 13,
   "id": "50a7fb4e-1df1-4e35-a010-6db319f0e9ef",
   "metadata": {},
   "outputs": [
    {
     "data": {
      "text/plain": [
       "[Text(0, 0, '1752'),\n",
       " Text(0, 0, '459'),\n",
       " Text(0, 0, '343'),\n",
       " Text(0, 0, '271'),\n",
       " Text(0, 0, '269'),\n",
       " Text(0, 0, '257'),\n",
       " Text(0, 0, '251'),\n",
       " Text(0, 0, '221'),\n",
       " Text(0, 0, '177'),\n",
       " Text(0, 0, '158'),\n",
       " Text(0, 0, '153'),\n",
       " Text(0, 0, '131'),\n",
       " Text(0, 0, '103'),\n",
       " Text(0, 0, '96'),\n",
       " Text(0, 0, '88'),\n",
       " Text(0, 0, '86'),\n",
       " Text(0, 0, '83'),\n",
       " Text(0, 0, '80'),\n",
       " Text(0, 0, '78'),\n",
       " Text(0, 0, '78')]"
      ]
     },
     "execution_count": 13,
     "metadata": {},
     "output_type": "execute_result"
    },
    {
     "data": {
      "image/png": "[encoded data removed]",
      "text/plain": [
       "<Figure size 640x480 with 1 Axes>"
      ]
     },
     "metadata": {},
     "output_type": "display_data"
    }
   ],
   "source": [
    "x_labels = plot_df1['Country']\n",
    "fig = plot_df1.plot(kind='bar')\n",
    "plt.title('Top 20 COuntries with most number of Airports')\n",
    "fig.set_xticklabels(x_labels)\n",
    "fig.bar_label(fig.containers[0], label_type='edge')"
   ]
  },
  {
   "cell_type": "code",
   "execution_count": 14,
   "id": "ff2c6c90-1f52-42ec-bb48-5a7acc37a2e1",
   "metadata": {},
   "outputs": [
    {
     "data": {
      "text/html": [
       "<div>\n",
       "<style scoped>\n",
       "    .dataframe tbody tr th:only-of-type {\n",
       "        vertical-align: middle;\n",
       "    }\n",
       "\n",
       "    .dataframe tbody tr th {\n",
       "        vertical-align: top;\n",
       "    }\n",
       "\n",
       "    .dataframe thead th {\n",
       "        text-align: right;\n",
       "    }\n",
       "</style>\n",
       "<table border=\"1\" class=\"dataframe\">\n",
       "  <thead>\n",
       "    <tr style=\"text-align: right;\">\n",
       "      <th></th>\n",
       "      <th>Country</th>\n",
       "      <th>no_of_airports</th>\n",
       "    </tr>\n",
       "  </thead>\n",
       "  <tbody>\n",
       "    <tr>\n",
       "      <th>0</th>\n",
       "      <td>United States</td>\n",
       "      <td>1752</td>\n",
       "    </tr>\n",
       "    <tr>\n",
       "      <th>1</th>\n",
       "      <td>Canada</td>\n",
       "      <td>459</td>\n",
       "    </tr>\n",
       "    <tr>\n",
       "      <th>2</th>\n",
       "      <td>Australia</td>\n",
       "      <td>343</td>\n",
       "    </tr>\n",
       "    <tr>\n",
       "      <th>3</th>\n",
       "      <td>Russia</td>\n",
       "      <td>271</td>\n",
       "    </tr>\n",
       "    <tr>\n",
       "      <th>4</th>\n",
       "      <td>Brazil</td>\n",
       "      <td>269</td>\n",
       "    </tr>\n",
       "    <tr>\n",
       "      <th>...</th>\n",
       "      <td>...</td>\n",
       "      <td>...</td>\n",
       "    </tr>\n",
       "    <tr>\n",
       "      <th>232</th>\n",
       "      <td>Isle of Man</td>\n",
       "      <td>1</td>\n",
       "    </tr>\n",
       "    <tr>\n",
       "      <th>233</th>\n",
       "      <td>Jersey</td>\n",
       "      <td>1</td>\n",
       "    </tr>\n",
       "    <tr>\n",
       "      <th>234</th>\n",
       "      <td>West Bank</td>\n",
       "      <td>1</td>\n",
       "    </tr>\n",
       "    <tr>\n",
       "      <th>235</th>\n",
       "      <td>Gambia</td>\n",
       "      <td>1</td>\n",
       "    </tr>\n",
       "    <tr>\n",
       "      <th>236</th>\n",
       "      <td>Wake Island</td>\n",
       "      <td>1</td>\n",
       "    </tr>\n",
       "  </tbody>\n",
       "</table>\n",
       "<p>237 rows × 2 columns</p>\n",
       "</div>"
      ],
      "text/plain": [
       "           Country  no_of_airports\n",
       "0    United States            1752\n",
       "1           Canada             459\n",
       "2        Australia             343\n",
       "3           Russia             271\n",
       "4           Brazil             269\n",
       "..             ...             ...\n",
       "232    Isle of Man               1\n",
       "233         Jersey               1\n",
       "234      West Bank               1\n",
       "235         Gambia               1\n",
       "236    Wake Island               1\n",
       "\n",
       "[237 rows x 2 columns]"
      ]
     },
     "execution_count": 14,
     "metadata": {},
     "output_type": "execute_result"
    }
   ],
   "source": [
    "plot_df1 = (\n",
    "    airports['Country'].value_counts()\n",
    "        .rename_axis('Country')\n",
    "        .reset_index(name='no_of_airports')\n",
    ")\n",
    "plot_df1"
   ]
  },
  {
   "cell_type": "code",
   "execution_count": 15,
   "id": "c5853e93-717d-4b9f-9dcb-e0238768ce6b",
   "metadata": {},
   "outputs": [],
   "source": [
    "plot_df2 = plot_df1[plot_df1.no_of_airports <= 1]\n",
    "#np.array()"
   ]
  },
  {
   "cell_type": "code",
   "execution_count": 16,
   "id": "bdf75a91",
   "metadata": {},
   "outputs": [
    {
     "ename": "KeyError",
     "evalue": "'Latitude'",
     "output_type": "error",
     "traceback": [
      "\u001b[1;31m---------------------------------------------------------------------------\u001b[0m",
      "\u001b[1;31mKeyError\u001b[0m                                  Traceback (most recent call last)",
      "\u001b[1;32m~\\anaconda3\\lib\\site-packages\\pandas\\core\\indexes\\base.py\u001b[0m in \u001b[0;36mget_loc\u001b[1;34m(self, key, method, tolerance)\u001b[0m\n\u001b[0;32m   3628\u001b[0m             \u001b[1;32mtry\u001b[0m\u001b[1;33m:\u001b[0m\u001b[1;33m\u001b[0m\u001b[1;33m\u001b[0m\u001b[0m\n\u001b[1;32m-> 3629\u001b[1;33m                 \u001b[1;32mreturn\u001b[0m \u001b[0mself\u001b[0m\u001b[1;33m.\u001b[0m\u001b[0m_engine\u001b[0m\u001b[1;33m.\u001b[0m\u001b[0mget_loc\u001b[0m\u001b[1;33m(\u001b[0m\u001b[0mcasted_key\u001b[0m\u001b[1;33m)\u001b[0m\u001b[1;33m\u001b[0m\u001b[1;33m\u001b[0m\u001b[0m\n\u001b[0m\u001b[0;32m   3630\u001b[0m             \u001b[1;32mexcept\u001b[0m \u001b[0mKeyError\u001b[0m \u001b[1;32mas\u001b[0m \u001b[0merr\u001b[0m\u001b[1;33m:\u001b[0m\u001b[1;33m\u001b[0m\u001b[1;33m\u001b[0m\u001b[0m\n",
      "\u001b[1;32m~\\anaconda3\\lib\\site-packages\\pandas\\_libs\\index.pyx\u001b[0m in \u001b[0;36mpandas._libs.index.IndexEngine.get_loc\u001b[1;34m()\u001b[0m\n",
      "\u001b[1;32m~\\anaconda3\\lib\\site-packages\\pandas\\_libs\\index.pyx\u001b[0m in \u001b[0;36mpandas._libs.index.IndexEngine.get_loc\u001b[1;34m()\u001b[0m\n",
      "\u001b[1;32mpandas\\_libs\\hashtable_class_helper.pxi\u001b[0m in \u001b[0;36mpandas._libs.hashtable.PyObjectHashTable.get_item\u001b[1;34m()\u001b[0m\n",
      "\u001b[1;32mpandas\\_libs\\hashtable_class_helper.pxi\u001b[0m in \u001b[0;36mpandas._libs.hashtable.PyObjectHashTable.get_item\u001b[1;34m()\u001b[0m\n",
      "\u001b[1;31mKeyError\u001b[0m: 'Latitude'",
      "\nThe above exception was the direct cause of the following exception:\n",
      "\u001b[1;31mKeyError\u001b[0m                                  Traceback (most recent call last)",
      "\u001b[1;32m~\\AppData\\Local\\Temp\\ipykernel_10884\\3594588035.py\u001b[0m in \u001b[0;36m<module>\u001b[1;34m\u001b[0m\n\u001b[0;32m      3\u001b[0m \u001b[1;32mfor\u001b[0m \u001b[0mi\u001b[0m \u001b[1;32min\u001b[0m \u001b[0mrange\u001b[0m\u001b[1;33m(\u001b[0m\u001b[1;36m0\u001b[0m\u001b[1;33m,\u001b[0m\u001b[0mlen\u001b[0m\u001b[1;33m(\u001b[0m\u001b[0mplot_df2\u001b[0m\u001b[1;33m)\u001b[0m\u001b[1;33m)\u001b[0m\u001b[1;33m:\u001b[0m\u001b[1;33m\u001b[0m\u001b[1;33m\u001b[0m\u001b[0m\n\u001b[0;32m      4\u001b[0m    folium.Marker(\n\u001b[1;32m----> 5\u001b[1;33m       \u001b[0mlocation\u001b[0m\u001b[1;33m=\u001b[0m\u001b[1;33m[\u001b[0m\u001b[0mplot_df2\u001b[0m\u001b[1;33m.\u001b[0m\u001b[0miloc\u001b[0m\u001b[1;33m[\u001b[0m\u001b[0mi\u001b[0m\u001b[1;33m]\u001b[0m\u001b[1;33m[\u001b[0m\u001b[1;34m'Latitude'\u001b[0m\u001b[1;33m]\u001b[0m\u001b[1;33m,\u001b[0m \u001b[0mplot_df2\u001b[0m\u001b[1;33m.\u001b[0m\u001b[0miloc\u001b[0m\u001b[1;33m[\u001b[0m\u001b[0mi\u001b[0m\u001b[1;33m]\u001b[0m\u001b[1;33m[\u001b[0m\u001b[1;34m'Longitude'\u001b[0m\u001b[1;33m]\u001b[0m\u001b[1;33m]\u001b[0m\u001b[1;33m,\u001b[0m\u001b[1;33m\u001b[0m\u001b[1;33m\u001b[0m\u001b[0m\n\u001b[0m\u001b[0;32m      6\u001b[0m       \u001b[0mpopup\u001b[0m\u001b[1;33m=\u001b[0m\u001b[0mplot_df2\u001b[0m\u001b[1;33m.\u001b[0m\u001b[0miloc\u001b[0m\u001b[1;33m[\u001b[0m\u001b[0mi\u001b[0m\u001b[1;33m]\u001b[0m\u001b[1;33m[\u001b[0m\u001b[1;34m'Airport_Name'\u001b[0m\u001b[1;33m]\u001b[0m\u001b[1;33m,\u001b[0m\u001b[1;33m\u001b[0m\u001b[1;33m\u001b[0m\u001b[0m\n\u001b[0;32m      7\u001b[0m    ).add_to(m0)\n",
      "\u001b[1;32m~\\anaconda3\\lib\\site-packages\\pandas\\core\\series.py\u001b[0m in \u001b[0;36m__getitem__\u001b[1;34m(self, key)\u001b[0m\n\u001b[0;32m    956\u001b[0m \u001b[1;33m\u001b[0m\u001b[0m\n\u001b[0;32m    957\u001b[0m         \u001b[1;32melif\u001b[0m \u001b[0mkey_is_scalar\u001b[0m\u001b[1;33m:\u001b[0m\u001b[1;33m\u001b[0m\u001b[1;33m\u001b[0m\u001b[0m\n\u001b[1;32m--> 958\u001b[1;33m             \u001b[1;32mreturn\u001b[0m \u001b[0mself\u001b[0m\u001b[1;33m.\u001b[0m\u001b[0m_get_value\u001b[0m\u001b[1;33m(\u001b[0m\u001b[0mkey\u001b[0m\u001b[1;33m)\u001b[0m\u001b[1;33m\u001b[0m\u001b[1;33m\u001b[0m\u001b[0m\n\u001b[0m\u001b[0;32m    959\u001b[0m \u001b[1;33m\u001b[0m\u001b[0m\n\u001b[0;32m    960\u001b[0m         \u001b[1;32mif\u001b[0m \u001b[0mis_hashable\u001b[0m\u001b[1;33m(\u001b[0m\u001b[0mkey\u001b[0m\u001b[1;33m)\u001b[0m\u001b[1;33m:\u001b[0m\u001b[1;33m\u001b[0m\u001b[1;33m\u001b[0m\u001b[0m\n",
      "\u001b[1;32m~\\anaconda3\\lib\\site-packages\\pandas\\core\\series.py\u001b[0m in \u001b[0;36m_get_value\u001b[1;34m(self, label, takeable)\u001b[0m\n\u001b[0;32m   1067\u001b[0m \u001b[1;33m\u001b[0m\u001b[0m\n\u001b[0;32m   1068\u001b[0m         \u001b[1;31m# Similar to Index.get_value, but we do not fall back to positional\u001b[0m\u001b[1;33m\u001b[0m\u001b[1;33m\u001b[0m\u001b[0m\n\u001b[1;32m-> 1069\u001b[1;33m         \u001b[0mloc\u001b[0m \u001b[1;33m=\u001b[0m \u001b[0mself\u001b[0m\u001b[1;33m.\u001b[0m\u001b[0mindex\u001b[0m\u001b[1;33m.\u001b[0m\u001b[0mget_loc\u001b[0m\u001b[1;33m(\u001b[0m\u001b[0mlabel\u001b[0m\u001b[1;33m)\u001b[0m\u001b[1;33m\u001b[0m\u001b[1;33m\u001b[0m\u001b[0m\n\u001b[0m\u001b[0;32m   1070\u001b[0m         \u001b[1;32mreturn\u001b[0m \u001b[0mself\u001b[0m\u001b[1;33m.\u001b[0m\u001b[0mindex\u001b[0m\u001b[1;33m.\u001b[0m\u001b[0m_get_values_for_loc\u001b[0m\u001b[1;33m(\u001b[0m\u001b[0mself\u001b[0m\u001b[1;33m,\u001b[0m \u001b[0mloc\u001b[0m\u001b[1;33m,\u001b[0m \u001b[0mlabel\u001b[0m\u001b[1;33m)\u001b[0m\u001b[1;33m\u001b[0m\u001b[1;33m\u001b[0m\u001b[0m\n\u001b[0;32m   1071\u001b[0m \u001b[1;33m\u001b[0m\u001b[0m\n",
      "\u001b[1;32m~\\anaconda3\\lib\\site-packages\\pandas\\core\\indexes\\base.py\u001b[0m in \u001b[0;36mget_loc\u001b[1;34m(self, key, method, tolerance)\u001b[0m\n\u001b[0;32m   3629\u001b[0m                 \u001b[1;32mreturn\u001b[0m \u001b[0mself\u001b[0m\u001b[1;33m.\u001b[0m\u001b[0m_engine\u001b[0m\u001b[1;33m.\u001b[0m\u001b[0mget_loc\u001b[0m\u001b[1;33m(\u001b[0m\u001b[0mcasted_key\u001b[0m\u001b[1;33m)\u001b[0m\u001b[1;33m\u001b[0m\u001b[1;33m\u001b[0m\u001b[0m\n\u001b[0;32m   3630\u001b[0m             \u001b[1;32mexcept\u001b[0m \u001b[0mKeyError\u001b[0m \u001b[1;32mas\u001b[0m \u001b[0merr\u001b[0m\u001b[1;33m:\u001b[0m\u001b[1;33m\u001b[0m\u001b[1;33m\u001b[0m\u001b[0m\n\u001b[1;32m-> 3631\u001b[1;33m                 \u001b[1;32mraise\u001b[0m \u001b[0mKeyError\u001b[0m\u001b[1;33m(\u001b[0m\u001b[0mkey\u001b[0m\u001b[1;33m)\u001b[0m \u001b[1;32mfrom\u001b[0m \u001b[0merr\u001b[0m\u001b[1;33m\u001b[0m\u001b[1;33m\u001b[0m\u001b[0m\n\u001b[0m\u001b[0;32m   3632\u001b[0m             \u001b[1;32mexcept\u001b[0m \u001b[0mTypeError\u001b[0m\u001b[1;33m:\u001b[0m\u001b[1;33m\u001b[0m\u001b[1;33m\u001b[0m\u001b[0m\n\u001b[0;32m   3633\u001b[0m                 \u001b[1;31m# If we have a listlike key, _check_indexing_error will raise\u001b[0m\u001b[1;33m\u001b[0m\u001b[1;33m\u001b[0m\u001b[0m\n",
      "\u001b[1;31mKeyError\u001b[0m: 'Latitude'"
     ]
    }
   ],
   "source": [
    "m0 = folium.Map(location=[20,0], tiles=\"OpenStreetMap\", zoom_start=2)\n",
    "\n",
    "for i in range(0,len(plot_df2)):\n",
    "   folium.Marker(\n",
    "      location=[plot_df2.iloc[i]['Latitude'], plot_df2.iloc[i]['Longitude']],\n",
    "      popup=plot_df2.iloc[i]['Airport_Name'],\n",
    "   ).add_to(m0)\n",
    "\n",
    "m0"
   ]
  },
  {
   "cell_type": "code",
   "execution_count": null,
   "id": "1e40ba66-7693-4620-9251-3f160c9df602",
   "metadata": {},
   "outputs": [],
   "source": [
    "plt.figure(figsize = (50,5))\n",
    "plt.bar(plot_df2['Country'], plot_df2['no_of_airports'])"
   ]
  },
  {
   "cell_type": "markdown",
   "id": "587452f7-2771-4294-81ee-c475042ef0a5",
   "metadata": {},
   "source": [
    "## Preprocessing Routes data"
   ]
  },
  {
   "cell_type": "code",
   "execution_count": null,
   "id": "bf9c3e85-bdc6-4b78-b8e5-4674c9d8e632",
   "metadata": {},
   "outputs": [],
   "source": [
    "routes.head()"
   ]
  },
  {
   "cell_type": "code",
   "execution_count": null,
   "id": "1b7fc2be-4f18-49ec-90ff-cf8feaf9977a",
   "metadata": {},
   "outputs": [],
   "source": [
    "routes.columns = ['Airline_IATA', 'Airline_ID', 'Source_airport', 'Source_airport_ID', 'Destination_airport', 'Destination_airport_ID', 'Codeshare', 'Stops', 'Equipment']"
   ]
  },
  {
   "cell_type": "code",
   "execution_count": null,
   "id": "8846fbf8-65b0-4605-9139-ce7e19eb68c2",
   "metadata": {},
   "outputs": [],
   "source": [
    "routes"
   ]
  },
  {
   "cell_type": "code",
   "execution_count": null,
   "id": "7cd7eb87-5476-4722-9931-cc53b52e2049",
   "metadata": {},
   "outputs": [],
   "source": [
    "routes.isnull().sum()"
   ]
  },
  {
   "cell_type": "code",
   "execution_count": null,
   "id": "2210e900-53b0-474a-9aa2-94fd4acdb9fd",
   "metadata": {},
   "outputs": [],
   "source": [
    "routes.drop(['Codeshare'], axis=1,inplace = True)"
   ]
  },
  {
   "cell_type": "markdown",
   "id": "1fcbd43c-ab20-42c9-ae0b-57c02cdb6043",
   "metadata": {},
   "source": [
    "## Preprocessing Airline data"
   ]
  },
  {
   "cell_type": "code",
   "execution_count": null,
   "id": "d8feb23b-142e-4878-ab3e-eac8ba820a32",
   "metadata": {},
   "outputs": [],
   "source": [
    "airlines.head()"
   ]
  },
  {
   "cell_type": "code",
   "execution_count": null,
   "id": "4398b21d-b175-4e14-8126-24413b8dbf32",
   "metadata": {},
   "outputs": [],
   "source": [
    "airlines.columns = ['Airline_ID', 'Airline_Name', 'Airline_Alias', 'Airline_IATA', 'Airline_ICAO', 'Callsign', 'Airline_Country', 'Active']"
   ]
  },
  {
   "cell_type": "code",
   "execution_count": null,
   "id": "be0a4f6b-7a6b-4e91-bdc6-83bd2889b479",
   "metadata": {},
   "outputs": [],
   "source": [
    "airlines"
   ]
  },
  {
   "cell_type": "code",
   "execution_count": null,
   "id": "5e1d9dbe-164c-40fc-955b-dd7548db5846",
   "metadata": {},
   "outputs": [],
   "source": [
    "airlines.isnull().sum()"
   ]
  },
  {
   "cell_type": "code",
   "execution_count": null,
   "id": "fd4d1419-2192-4247-9928-0990c4234efe",
   "metadata": {},
   "outputs": [],
   "source": [
    "airlines_df = airlines[['Airline_Name', 'Airline_IATA']]\n",
    "airlines_df.head()"
   ]
  },
  {
   "cell_type": "code",
   "execution_count": null,
   "id": "53ea8dd4-7474-4732-b9ef-ea3d2ea613a7",
   "metadata": {},
   "outputs": [],
   "source": [
    "airline_routes = pd.merge(left = airlines_df, \n",
    "                 right = routes,\n",
    "                 how= 'right',\n",
    "                 left_on='Airline_IATA',\n",
    "                 right_on='Airline_IATA',\n",
    "                 suffixes=('_x', '_y'))"
   ]
  },
  {
   "cell_type": "code",
   "execution_count": null,
   "id": "c584fc3a-2bad-49ce-b4a8-bcd7233ed3fb",
   "metadata": {},
   "outputs": [],
   "source": [
    "airline_routes"
   ]
  },
  {
   "cell_type": "code",
   "execution_count": null,
   "id": "86345fbd-ef24-49d1-a939-a4d0dbbf742e",
   "metadata": {},
   "outputs": [],
   "source": [
    "airline_routes.isnull().sum()"
   ]
  },
  {
   "cell_type": "code",
   "execution_count": null,
   "id": "b280653e-a13a-4a3d-9892-71808f1e7a83",
   "metadata": {},
   "outputs": [],
   "source": [
    "airports.columns"
   ]
  },
  {
   "cell_type": "code",
   "execution_count": null,
   "id": "632b63b8-8180-48c2-bf03-8c4918c8d372",
   "metadata": {},
   "outputs": [],
   "source": [
    "airports_info =  airports[['IATA','Airport_Name', 'City', 'Country','Latitude', 'Longitude']]"
   ]
  },
  {
   "cell_type": "code",
   "execution_count": null,
   "id": "446da4e0-f2ba-4f03-8b8c-47c01b13fc77",
   "metadata": {},
   "outputs": [],
   "source": [
    "airports_info.info()"
   ]
  },
  {
   "cell_type": "code",
   "execution_count": null,
   "id": "b4aa68e3-fed4-421f-9939-313900fdd50b",
   "metadata": {},
   "outputs": [],
   "source": [
    "airline_routes.info()"
   ]
  },
  {
   "cell_type": "code",
   "execution_count": null,
   "id": "64186bb3-8bc6-4d88-96af-6275c65735e0",
   "metadata": {},
   "outputs": [],
   "source": [
    "airline_routes.isnull().sum()"
   ]
  },
  {
   "cell_type": "code",
   "execution_count": null,
   "id": "dcc573c3-233f-492f-b3b7-97933146462c",
   "metadata": {},
   "outputs": [],
   "source": [
    "airline_routes.info()"
   ]
  },
  {
   "cell_type": "code",
   "execution_count": null,
   "id": "1e27d116-5293-4b6d-bd43-c38a23f91896",
   "metadata": {},
   "outputs": [],
   "source": [
    "airline_routes1 = pd.merge(left = airports_info, \n",
    "                 right = airline_routes,\n",
    "                 how= 'right',\n",
    "                 left_on='IATA',\n",
    "                 right_on='Source_airport',\n",
    "                 suffixes=('_x', '_y'))"
   ]
  },
  {
   "cell_type": "code",
   "execution_count": null,
   "id": "91ba1570-c4a7-4b81-a64b-de05e3b318e4",
   "metadata": {},
   "outputs": [],
   "source": [
    "airline_routes1"
   ]
  },
  {
   "cell_type": "code",
   "execution_count": null,
   "id": "e29fd23d-f9db-444c-acc8-959fa24a9986",
   "metadata": {},
   "outputs": [],
   "source": [
    "airline_routes2 = pd.merge(left = airports_info, \n",
    "                 right = airline_routes1,\n",
    "                 how= 'right',\n",
    "                 left_on='IATA',\n",
    "                 right_on='Destination_airport',\n",
    "                 suffixes=('_d', '_s'))"
   ]
  },
  {
   "cell_type": "code",
   "execution_count": null,
   "id": "c02e7148-7d8a-4c1f-96a1-8fce8a7b6616",
   "metadata": {},
   "outputs": [],
   "source": [
    "airline_routes2"
   ]
  },
  {
   "cell_type": "code",
   "execution_count": null,
   "id": "cf93beb3-71fe-443d-bdd4-32d70a1f022f",
   "metadata": {},
   "outputs": [],
   "source": [
    "airline_routes2.info()"
   ]
  },
  {
   "cell_type": "markdown",
   "id": "8187dd3a-c5d9-4063-b415-8a251a4f672f",
   "metadata": {},
   "source": [
    "### Dropping unnceesaary columns to create final routes dataset"
   ]
  },
  {
   "cell_type": "code",
   "execution_count": null,
   "id": "a6f9f138-8713-44d3-a539-c4ba349a44e5",
   "metadata": {},
   "outputs": [],
   "source": [
    "final_routes = airline_routes2[['Airline_Name','Airline_IATA',\n",
    "                                'Source_airport','Airport_Name_s','City_s','Country_s','Latitude_s','Longitude_s',\n",
    "                                'Destination_airport','Airport_Name_d','City_d','Country_d','Latitude_d','Longitude_d','Equipment']]"
   ]
  },
  {
   "cell_type": "code",
   "execution_count": null,
   "id": "a96a3c14-37c2-483c-8091-4ccafd5f8983",
   "metadata": {},
   "outputs": [],
   "source": [
    "final_routes.info()"
   ]
  },
  {
   "cell_type": "code",
   "execution_count": null,
   "id": "0b6160ac-1d1d-4c2f-93c9-7991c0cf25c4",
   "metadata": {},
   "outputs": [],
   "source": [
    "final_routes.isnull().sum()"
   ]
  },
  {
   "cell_type": "code",
   "execution_count": null,
   "id": "abf492e4-3d19-4c5d-9d6e-593bbe8ff33f",
   "metadata": {},
   "outputs": [],
   "source": [
    "final_routes.to_csv('final_routes.csv')"
   ]
  },
  {
   "cell_type": "code",
   "execution_count": null,
   "id": "0f4fff4e-f90b-4dfb-ab20-906fd7e39995",
   "metadata": {},
   "outputs": [],
   "source": [
    "final_routes.head()"
   ]
  },
  {
   "cell_type": "markdown",
   "id": "009aebd4-76eb-4e9a-9075-b5ca1ffe86fd",
   "metadata": {},
   "source": [
    "## VIS_2: Top 10 AIrlines with most routes"
   ]
  },
  {
   "cell_type": "code",
   "execution_count": null,
   "id": "aff04050-117f-41b6-9e23-450b9b5d92bd",
   "metadata": {},
   "outputs": [],
   "source": [
    "plot_df = (\n",
    "    final_routes['Airline_Name'].value_counts()\n",
    "        .head(10)\n",
    "        .rename_axis('Airline_Name')\n",
    "        .reset_index(name='no_of_routes')\n",
    ")\n",
    "plt.figure(figsize=(14,7))\n",
    "y=  final_routes['Airline_Name'].value_counts().head(10)\n",
    "mylabels = plot_df['Airline_Name']\n",
    "\n",
    "plt.title('Top 10 AIrlines with most routes', fontsize=25)\n",
    "\n",
    "pie = plt.pie(y,autopct='%1.1f%%', startangle=90)\n",
    "plt.axis('equal')\n",
    "plt.legend( loc = 'right', labels=mylabels)\n",
    "plt.show()"
   ]
  },
  {
   "cell_type": "markdown",
   "id": "bf777423-7369-4115-98f4-0e3b2e9977fd",
   "metadata": {},
   "source": [
    "## VIS_2: Top 10 Airports with maximum connectivity"
   ]
  },
  {
   "cell_type": "code",
   "execution_count": null,
   "id": "46f1328a-13bf-4231-bf15-4497e33531ae",
   "metadata": {},
   "outputs": [],
   "source": [
    "plot_df = (\n",
    "    final_routes['Source_airport'].value_counts()\n",
    "        .rename_axis('Airport_Name_s')\n",
    "        .reset_index(name='no_of_flights_o')\n",
    ")\n",
    "plot_df.info()"
   ]
  },
  {
   "cell_type": "code",
   "execution_count": null,
   "id": "f330600c-936d-42f9-bc37-889b2c340936",
   "metadata": {},
   "outputs": [],
   "source": [
    "plot_df1 = (\n",
    "    final_routes['Destination_airport'].value_counts()\n",
    "        .rename_axis('Airport_Name_d')\n",
    "        .reset_index(name='no_of_flights_i')\n",
    ")\n",
    "plot_df1.info()"
   ]
  },
  {
   "cell_type": "code",
   "execution_count": null,
   "id": "5fd1e2c1-eae2-44d2-a1f2-3aa48e30f827",
   "metadata": {},
   "outputs": [],
   "source": [
    "plot_df2= pd.merge(left = plot_df, \n",
    "                 right = plot_df1,\n",
    "                 how= 'outer',\n",
    "                 left_on='Airport_Name_s',\n",
    "                 right_on='Airport_Name_d',\n",
    "                 suffixes=('_x', '_y'))\n",
    "plot_df2 = plot_df2.head(10)\n",
    "plot_df2.drop(['Airport_Name_d'], axis=1, inplace = True)\n",
    "plot_df2"
   ]
  },
  {
   "cell_type": "code",
   "execution_count": null,
   "id": "450624e8-9284-48c1-87a8-206ca429b32e",
   "metadata": {},
   "outputs": [],
   "source": [
    "fig, ax = plt.subplots(figsize=(14,7))\n",
    "x = np.arange(len(plot_df2))\n",
    "width = 0.4\n",
    "p1 = plt.bar(x-0.2, plot_df2['no_of_flights_o'],width, color='grey', label='no.of outgoing flight routes')\n",
    "p2 = plt.bar(x+0.2, plot_df2['no_of_flights_i'],width, color='skyblue', label='no.of incoming flight routes')\n",
    "\n",
    "plt.bar_label(p1, label_type='edge')\n",
    "plt.bar_label(p2, label_type='edge')\n",
    "\n",
    "plt.title('Top 10 Airports with maximum connectivity', fontsize=25)\n",
    "plt.xlabel('Airport_IATA_codes', fontsize=20)\n",
    "plt.xticks(plot_df2.index, plot_df2['Airport_Name_s'], fontsize=17)\n",
    "plt.ylabel('no_of_routes', fontsize=20)\n",
    "plt.yticks(fontsize=17)\n",
    "\n",
    "plt.legend(frameon=False, fontsize=15)\n",
    "plt.show()"
   ]
  },
  {
   "cell_type": "markdown",
   "id": "bfa00331-1812-4d1f-a5a7-cf0453eec03a",
   "metadata": {},
   "source": [
    "## VIS_3: Plotting Top 10 Airports with most connectivity"
   ]
  },
  {
   "cell_type": "code",
   "execution_count": null,
   "id": "c6781626-26f4-4d37-a03b-8f7821800c65",
   "metadata": {},
   "outputs": [],
   "source": [
    "folium_df = pd.merge(left = plot_df2, \n",
    "                 right = airports,\n",
    "                 how= 'left',\n",
    "                 left_on='Airport_Name_s',\n",
    "                 right_on='IATA',\n",
    "                 suffixes=('_l', '_r'))\n",
    "folium_df"
   ]
  },
  {
   "cell_type": "code",
   "execution_count": null,
   "id": "32ccfa68-6df2-4edc-b05c-e0d3398e0e20",
   "metadata": {},
   "outputs": [],
   "source": [
    "m = folium.Map(location=[20,0], tiles=\"OpenStreetMap\", zoom_start=2)\n",
    "\n",
    "for i in range(0,len(folium_df)):\n",
    "   folium.Marker(\n",
    "      location=[folium_df.iloc[i]['Latitude'], folium_df.iloc[i]['Longitude']],\n",
    "      popup=folium_df.iloc[i]['Airport_Name'],\n",
    "   ).add_to(m)\n",
    "\n",
    "m"
   ]
  },
  {
   "cell_type": "markdown",
   "id": "6e03dd52-a20a-493f-bbd3-720a6fbc34fc",
   "metadata": {},
   "source": [
    "## VIS_4: Planes that fly the most amount of routes"
   ]
  },
  {
   "cell_type": "code",
   "execution_count": null,
   "id": "71b78dca-ab61-485a-b8f6-2da0f4a0ebfc",
   "metadata": {},
   "outputs": [],
   "source": [
    "final_routes['Equipment'].value_counts()"
   ]
  },
  {
   "cell_type": "code",
   "execution_count": null,
   "id": "3fcccb04-71fd-45e3-a00f-07fce69994bf",
   "metadata": {},
   "outputs": [],
   "source": [
    "plot_df4 = (\n",
    "    final_routes['Equipment'].value_counts()\n",
    "        .head(10)\n",
    "        .rename_axis('Plane')\n",
    "        .reset_index(name='no_of_routes')\n",
    ")\n",
    "plt.figure(figsize=(14,7))\n",
    "y=  final_routes['Equipment'].value_counts().head(10)\n",
    "mylabels = plot_df4['Plane']\n",
    "\n",
    "plt.title('Planes that fly the most amount of routes', fontsize=25)\n",
    "\n",
    "pie = plt.pie(y,autopct='%1.1f%%', startangle=90)\n",
    "plt.axis('equal')\n",
    "plt.legend( loc = 'right', labels=mylabels)\n",
    "plt.show()"
   ]
  },
  {
   "cell_type": "markdown",
   "id": "17239222-f532-40f4-ae6a-3ed922ee6176",
   "metadata": {},
   "source": [
    "## Cities with most connectivity"
   ]
  },
  {
   "cell_type": "code",
   "execution_count": null,
   "id": "0458e877-2f61-4595-872a-75f90d16e5ac",
   "metadata": {},
   "outputs": [],
   "source": [
    "plot_df5 = (\n",
    "    final_routes['City_s'].value_counts()\n",
    "        .rename_axis('City_Name_s')\n",
    "        .reset_index(name='no_of_flights_o')\n",
    ")\n",
    "plot_df5.info()\n",
    "\n",
    "plot_df6 = (\n",
    "    final_routes['City_d'].value_counts()\n",
    "        .rename_axis('City_Name_d')\n",
    "        .reset_index(name='no_of_flights_i')\n",
    ")\n",
    "plot_df6.info()\n",
    "\n",
    "\n",
    "\n",
    "plot_df7 = pd.merge(left = plot_df5, \n",
    "                 right = plot_df6,\n",
    "                 how= 'outer',\n",
    "                 left_on='City_Name_s',\n",
    "                 right_on='City_Name_d',\n",
    "                 suffixes=('_x', '_y'))\n",
    "\n",
    "plot_df7 = plot_df7.head(10)\n",
    "plot_df7.drop(['City_Name_d'], axis=1, inplace = True)\n",
    "plot_df7"
   ]
  },
  {
   "cell_type": "code",
   "execution_count": null,
   "id": "f7937d5d-156e-4e20-87cd-77a1904763a4",
   "metadata": {},
   "outputs": [],
   "source": [
    "fig, ax = plt.subplots(figsize=(14,7))\n",
    "x = np.arange(len(plot_df2))\n",
    "width = 0.4\n",
    "p1 = plt.bar(x-0.2, plot_df7['no_of_flights_o'],width, color='skyblue', label='no.of outgoing flight routes')\n",
    "p2 = plt.bar(x+0.2, plot_df7['no_of_flights_i'],width, color='pink', label='no.of incoming flight routes')\n",
    "\n",
    "plt.bar_label(p1, label_type='edge')\n",
    "plt.bar_label(p2, label_type='edge')\n",
    "\n",
    "plt.title('Top 10 Cities with maximum connectivity', fontsize=25)\n",
    "plt.xlabel('Cities', fontsize=20)\n",
    "plt.xticks(plot_df7.index, plot_df7['City_Name_s'], fontsize=17)\n",
    "plt.ylabel('no_of_routes', fontsize=20)\n",
    "plt.yticks(fontsize=17)\n",
    "\n",
    "plt.legend(frameon=False, fontsize=15)\n",
    "plt.show()"
   ]
  },
  {
   "cell_type": "code",
   "execution_count": null,
   "id": "09926830",
   "metadata": {},
   "outputs": [],
   "source": []
  }
 ],
 "metadata": {
  "kernelspec": {
   "display_name": "Python 3 (ipykernel)",
   "language": "python",
   "name": "python3"
  },
  "language_info": {
   "codemirror_mode": {
    "name": "ipython",
    "version": 3
   },
   "file_extension": ".py",
   "mimetype": "text/x-python",
   "name": "python",
   "nbconvert_exporter": "python",
   "pygments_lexer": "ipython3",
   "version": "3.9.13"
  }
 },
 "nbformat": 4,
 "nbformat_minor": 5
}
